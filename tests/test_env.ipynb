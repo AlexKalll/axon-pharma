{
 "cells": [
  {
   "cell_type": "code",
   "execution_count": 5,
   "id": "f55b69c6",
   "metadata": {},
   "outputs": [
    {
     "name": "stdout",
     "output_type": "stream",
     "text": [
      "@axon_pharma\n",
      "@axon_pharmacy\n"
     ]
    }
   ],
   "source": [
    "import os\n",
    "from dotenv import load_dotenv\n",
    "\n",
    "load_dotenv()\n",
    "print(os.getenv(\"CHANNEL_USERNAME\"))\n",
    "print(os.getenv(\"GROUP_USERNAME\"))\n",
    "# print(os.getenv(\"TELEGRAM_BOT_TOKEN\"))\n"
   ]
  }
 ],
 "metadata": {
  "kernelspec": {
   "display_name": "venv",
   "language": "python",
   "name": "python3"
  },
  "language_info": {
   "codemirror_mode": {
    "name": "ipython",
    "version": 3
   },
   "file_extension": ".py",
   "mimetype": "text/x-python",
   "name": "python",
   "nbconvert_exporter": "python",
   "pygments_lexer": "ipython3",
   "version": "3.13.1"
  }
 },
 "nbformat": 4,
 "nbformat_minor": 5
}
