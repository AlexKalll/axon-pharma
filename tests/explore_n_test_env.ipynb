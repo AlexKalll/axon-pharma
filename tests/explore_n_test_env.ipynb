{
 "cells": [
  {
   "cell_type": "code",
   "execution_count": null,
   "id": "f55b69c6",
   "metadata": {},
   "outputs": [
    {
     "data": {
      "text/plain": [
       "True"
      ]
     },
     "execution_count": 1,
     "metadata": {},
     "output_type": "execute_result"
    }
   ],
   "source": [
    "import os\n",
    "from dotenv import load_dotenv\n",
    "\n",
    "load_dotenv()\n",
    "print(os.getenv(\"CHANNEL_USERNAME\"))\n",
    "print(os.getenv(\"GROUP_USERNAME\"))\n",
    "print(os.getenv(\"TELEGRAM_BOT_TOKEN\"))\n"
   ]
  },
  {
   "cell_type": "code",
   "execution_count": null,
   "id": "6b51c14c",
   "metadata": {},
   "outputs": [],
   "source": [
    "# telegrams response sample\n",
    "\n",
    "{'ok': True, 'result': {'message_id': 7, 'sender_chat': {'id': -1002758836547, 'title': 'Axon Pharmacy', 'username': 'axon_pharma', 'type': 'channel'}, 'chat': {'id': -1002758836547, 'title': 'Axon Pharmacy', 'username': 'axon_pharma', 'type': 'channel'}, 'date': 1753039964, 'text': 'New Stock Update\\n    We have just received a new shipment of medicines!', 'entities': [{'offset': 0, 'length': 16, 'type': 'bold'}, {'offset': 21, 'length': 50, 'type': 'italic'}]}}\n",
    "\n",
    "\n",
    "# gemini response sample\n",
    "sdk_http_response=HttpResponse(\n",
    "  headers=<dict len=11>\n",
    ") candidates=[Candidate(\n",
    "  content=Content(\n",
    "    parts=[\n",
    "      Part(\n",
    "        text='I am sorry, I cannot answer questions about the purpose of Firebase. My current capabilities are limited to scheduling meetings.',\n",
    "        thought_signature=b'\\n\\xfe\\x02\\x01T\\xa8\\\\\\xee2\\xb5\\xdd(\\xb4\\x9c\\x92\\xa2v\\xb1\\xc8P\\xd6\\x8f\\xeb\\n\\x1d=?\\xf6\\xf1\\xb2\\x9fa\\xb3\\xf7[+\\xfc\\xe5\\x9av\\xd5&2\\xbd\\xee\\x91\\xf8!-\\x88\\xf14\\x95\\x83a7\\x81\\x8e\\x98%]\\x01\\xd2\\xd6/\\xa9tT\\xc4iP\\xef\\x13]\\xaa]\\xc3\\x9a\\n\\t5\\tH>\\xe3@\\xf2a+\\xce\\x9bY\\xeb|\\x0fG\\x8e...'\n",
    "      ),\n",
    "    ],\n",
    "    role='model'\n",
    "  ),\n",
    "  finish_reason=<FinishReason.STOP: 'STOP'>,\n",
    "  index=0\n",
    ")] create_time=None response_id=None model_version='gemini-2.5-flash' prompt_feedback=None usage_metadata=GenerateContentResponseUsageMetadata(\n",
    "  candidates_token_count=23,\n",
    "  prompt_token_count=139,\n",
    "  prompt_tokens_details=[\n",
    "    ModalityTokenCount(\n",
    "      modality=<MediaModality.TEXT: 'TEXT'>,\n",
    "      token_count=139\n",
    "    ),\n",
    "  ],\n",
    "  thoughts_token_count=65,\n",
    "  total_token_count=227\n",
    ") automatic_function_calling_history=[] parsed=None"
   ]
  },
  {
   "cell_type": "markdown",
   "id": "5795147a",
   "metadata": {},
   "source": [
    "#### with function call with for multiple calling like\n",
    "```Python\n",
    "chat = client.chats.create(model = \"gemini-2.5-flash\", config=config)\n",
    "response = chat.send_message(prompt)\n",
    "```"
   ]
  },
  {
   "cell_type": "code",
   "execution_count": null,
   "id": "da155cae",
   "metadata": {},
   "outputs": [],
   "source": [
    "sdk_http_response=HttpResponse(\n",
    "  headers=<dict len=11>\n",
    ") candidates=[Candidate(\n",
    "  content=Content(\n",
    "    parts=[\n",
    "      Part(\n",
    "        function_call=FunctionCall(\n",
    "          args={\n",
    "            'attendees': [\n",
    "              <... Max depth ...>,\n",
    "              <... Max depth ...>,\n",
    "            ],\n",
    "            'date': '2025-03-14',\n",
    "            'time': '10:00',\n",
    "            'topic': 'Q3 planning'\n",
    "          },\n",
    "          name='schedule_meeting'\n",
    "        ),\n",
    "        thought_signature=b'\\n\\xd2\\x06\\x01T\\xa8\\\\\\xee3\\xc5\\xbb\\x9fZ\\x9f\\xfd\\xac|QQ\\xa8\\\\N\\xc2\\x87\\x15<\\x94\\xd99\\x94Hv\\xe7{\\xca_@?\\xe8v\\x85\\x8a\\xc5\\xb3\\x8b\\x1d\\x96k\\xe8\\x10-\\xa7\\x0f\\xad\"\\x95Xuf\\xd7:\\xef\\xee\\xf1\\x11)F\\xb6\\xe0\\xf5\\x9dOn\\xc2\\xf3m<\\xae>\\xb0\\xf7\\x05u\\xd9\\x13xQ0\\tHn=\\x8c\\xa2\\xb0\\x1b\\xec...'     \n",
    "      ),\n",
    "      Part(\n",
    "        function_call=FunctionCall(\n",
    "          args={\n",
    "            'prompt': 'summary paragraph about Ethiopia'\n",
    "          },\n",
    "          name='generate_text'\n",
    "        )\n",
    "      ),\n",
    "    ],\n",
    "    role='model'\n",
    "  ),\n",
    "  finish_reason=<FinishReason.STOP: 'STOP'>,\n",
    "  index=0\n",
    ")] create_time=None response_id=None model_version='gemini-2.5-flash' prompt_feedback=None usage_metadata=GenerateContentResponseUsageMetadata(\n",
    "  candidates_token_count=67,\n",
    "  prompt_token_count=219,\n",
    "  prompt_tokens_details=[\n",
    "    ModalityTokenCount(\n",
    "      modality=<MediaModality.TEXT: 'TEXT'>,\n",
    "      token_count=219\n",
    "    ),\n",
    "  ],\n",
    "  thoughts_token_count=274,\n",
    "  total_token_count=560\n",
    ") automatic_function_calling_history=[] parsed=None"
   ]
  },
  {
   "cell_type": "markdown",
   "id": "3f7043e7",
   "metadata": {},
   "source": [
    "- function calling with `client.models.generate_content`\n",
    "```python\n",
    "final_response = client.models.generate_content(\n",
    "        model=\"gemini-2.5-flash\",\n",
    "        config=config,\n",
    "        contents=contents,\n",
    "    )\n",
    "```"
   ]
  },
  {
   "cell_type": "code",
   "execution_count": null,
   "id": "9f6aa313",
   "metadata": {},
   "outputs": [],
   "source": [
    "# print(final_response)\n",
    "\n",
    "sdk_http_response=HttpResponse(\n",
    "  headers=<dict len=11>\n",
    ") candidates=[Candidate(\n",
    "  content=Content(\n",
    "    parts=[\n",
    "      Part(\n",
    "        text=\"\"\"A meeting about Q3 planning has been scheduled with Bob and Alice for March 14, 2025 at 10:00 AM.\n",
    "Here is a summary paragraph about Ethiopia:\n",
    "\n",
    "Ethiopia, located in the Horn of Africa, is a landlocked country with a rich and ancient history, often referred to as the \"cradle of humanity.\" It is unique in Africa for never having been formally colonized, maintaining its independence throughout the Scramble for Africa. The country boasts diverse landscapes, from the rugged Simien Mountains to the Danakil Depression, one of the hottest places on Earth. Ethiopia is also the origin of coffee and is renowned for its vibrant cultural heritage, including the rock-hewn churches of Lalibela and the ancient city of Axum, both UNESCO World Heritage sites. Its economy is largely agricultural, with coffee being a major export, and the country is a significant regional power, playing a key role in African diplomacy.\"\"\"\n",
    "      ),\n",
    "    ],\n",
    "    role='model'\n",
    "  ),\n",
    "  finish_reason=<FinishReason.STOP: 'STOP'>,\n",
    "  index=0\n",
    ")] create_time=None response_id=None model_version='gemini-2.5-flash' prompt_feedback=None usage_metadata=GenerateContentResponseUsageMetadata(\n",
    "  candidates_token_count=196,\n",
    "  prompt_token_count=434,\n",
    "  prompt_tokens_details=[\n",
    "    ModalityTokenCount(\n",
    "      modality=<MediaModality.TEXT: 'TEXT'>,\n",
    "      token_count=434\n",
    "    ),\n",
    "  ],\n",
    "  total_token_count=630\n",
    ") automatic_function_calling_history=[] parsed=None"
   ]
  }
 ],
 "metadata": {
  "kernelspec": {
   "display_name": "venv",
   "language": "python",
   "name": "python3"
  },
  "language_info": {
   "codemirror_mode": {
    "name": "ipython",
    "version": 3
   },
   "file_extension": ".py",
   "mimetype": "text/x-python",
   "name": "python",
   "nbconvert_exporter": "python",
   "pygments_lexer": "ipython3",
   "version": "3.13.1"
  }
 },
 "nbformat": 4,
 "nbformat_minor": 5
}
