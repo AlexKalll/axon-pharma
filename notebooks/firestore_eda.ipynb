{
 "cells": [
  {
   "cell_type": "code",
   "execution_count": 1,
   "id": "f8f2fb1a",
   "metadata": {},
   "outputs": [],
   "source": [
    "import os\n",
    "import requests\n",
    "import streamlit as st\n",
    "from google import genai\n",
    "from google.genai import types\n",
    "from dotenv import load_dotenv\n",
    "import firebase_admin\n",
    "from firebase_admin import credentials, firestore\n",
    "from datetime import datetime\n",
    "import hashlib\n",
    "from typing import Optional, List, Dict"
   ]
  },
  {
   "cell_type": "code",
   "execution_count": 3,
   "id": "ced9caff",
   "metadata": {},
   "outputs": [],
   "source": [
    "\n",
    "load_dotenv()\n",
    "\n",
    "# Initialize Firebase\n",
    "if not firebase_admin._apps:\n",
    "    cred = credentials.Certificate(\"../firebase_credentials.json\")\n",
    "    firebase_admin.initialize_app(cred)\n",
    "\n",
    "db = firestore.client()"
   ]
  },
  {
   "cell_type": "code",
   "execution_count": 11,
   "id": "341ae6ad",
   "metadata": {},
   "outputs": [
    {
     "data": {
      "text/plain": [
       "update_time {\n",
       "  seconds: 1753340706\n",
       "  nanos: 712728000\n",
       "}\n",
       "transform_results {\n",
       "  null_value: NULL_VALUE\n",
       "}"
      ]
     },
     "execution_count": 11,
     "metadata": {},
     "output_type": "execute_result"
    }
   ],
   "source": [
    "# add elemnt to firstore array\n",
    "user_ref = db.collection(\"users\").document(\"abe@gmail.com\")\n",
    "user_ref.update({\n",
    "    \"chat_history\": firestore.ArrayUnion([\"is insulin available now?\"])\n",
    "})"
   ]
  },
  {
   "cell_type": "code",
   "execution_count": 14,
   "id": "45a2c300",
   "metadata": {},
   "outputs": [
    {
     "data": {
      "text/plain": [
       "True"
      ]
     },
     "execution_count": 14,
     "metadata": {},
     "output_type": "execute_result"
    }
   ],
   "source": [
    "# find the admin admin@axon.org\n",
    "admin_ref = db.collection(\"admins\").document(\"admin@axon.org\")\n",
    "admin_data = admin_ref.get().to_dict()\n",
    "pss = admin_data[\"password\"]\n",
    "\n",
    "hashed_password = hashlib.sha256(\"123\".encode()).hexdigest()\n",
    "hashed_password == pss\n"
   ]
  },
  {
   "cell_type": "code",
   "execution_count": 4,
   "id": "bd68dc8e",
   "metadata": {},
   "outputs": [
    {
     "name": "stdout",
     "output_type": "stream",
     "text": [
      "{'user_email': 'jane.doe@example.com', 'id': 'OwxypNvLEuFYj3HQyTOL', 'medicinename': 'Amoxicillin Tablet', 'updated_at': DatetimeWithNanoseconds(2025, 7, 23, 0, 41, 57, 285229, tzinfo=datetime.timezone.utc), 'status': 'pending', 'total_price': 17.25, 'amount': 3}\n"
     ]
    }
   ],
   "source": [
    "root = db.collection(\"medicines\")\n",
    "\n",
    "docs = root.get()\n",
    "\n",
    "# for doc in docs:\n",
    "#     print(doc.to_dict())\n",
    "order_id = \"OwxypNvLEuFYj3HQyTOL\"\n",
    "doc_ref = db.collection(\"orders\").document(order_id).get().to_dict()\n",
    "print(doc_ref)"
   ]
  },
  {
   "cell_type": "code",
   "execution_count": 33,
   "id": "0bfaaaad",
   "metadata": {},
   "outputs": [
    {
     "name": "stdout",
     "output_type": "stream",
     "text": [
      "<google.cloud.firestore_v1.base_document.DocumentSnapshot object at 0x00000245BC4294D0>\n"
     ]
    }
   ],
   "source": [
    "# update order status\n",
    "\n",
    "order_id = \"OwxypNvLEuFYj3HQyTOL\"\n",
    "new_status = \"Processing\"\n",
    "\n",
    "\n",
    "doc_ref = db.collection(\"orders\").document(order_id)\n",
    "print(doc_ref.get())\n",
    "# doc_ref.update({\n",
    "#     \"status\": new_status,\n",
    "#     \"updated_at\": datetime.now()\n",
    "# })\n",
    "\n",
    "    "
   ]
  },
  {
   "cell_type": "code",
   "execution_count": 46,
   "id": "c99a0d58",
   "metadata": {},
   "outputs": [
    {
     "name": "stdout",
     "output_type": "stream",
     "text": [
      "Amoxicillin Tablet\n"
     ]
    }
   ],
   "source": [
    "# extract order medicine name\n",
    "\n",
    "order_id = \"OwxypNvLEuFYj3HQyTOL\"\n",
    "doc_ref = db.collection(\"orders\").document(order_id).get().to_dict()\n",
    "print(doc_ref.get(\"medicinename\"))"
   ]
  },
  {
   "cell_type": "code",
   "execution_count": 47,
   "id": "af3cb2c9",
   "metadata": {},
   "outputs": [
    {
     "name": "stdout",
     "output_type": "stream",
     "text": [
      "shipped\n"
     ]
    }
   ],
   "source": [
    "doc_ref = db.collection(\"orders\").document(order_id).get().to_dict()\n",
    "print(doc_ref.get(\"status\"))"
   ]
  },
  {
   "cell_type": "code",
   "execution_count": 43,
   "id": "13ffbb14",
   "metadata": {},
   "outputs": [
    {
     "name": "stdout",
     "output_type": "stream",
     "text": [
      "{'created_at': DatetimeWithNanoseconds(2025, 7, 22, 18, 59, 39, 295000, tzinfo=datetime.timezone.utc), 'unit_price': 5.75, 'description': 'Used for treating bacterial infections.', 'stock': 100, 'category': 'Antibiotics', 'madein': 'India', 'name': 'Aspririn'}\n",
      "None\n"
     ]
    }
   ],
   "source": [
    "name = \"aspririn\"\n",
    "\n",
    "name = name.lower().replace(' ', '_')\n",
    "docs = db.collection(\"medicines\").document(name)\n",
    "print(docs.get().to_dict())\n",
    "if docs:\n",
    "    docs.delete()\n",
    "\n",
    "print(docs.get().to_dict())"
   ]
  },
  {
   "cell_type": "code",
   "execution_count": 45,
   "id": "63be919e",
   "metadata": {},
   "outputs": [
    {
     "name": "stdout",
     "output_type": "stream",
     "text": [
      "{'created_at': DatetimeWithNanoseconds(2025, 7, 22, 21, 11, 23, 884000, tzinfo=datetime.timezone.utc), 'unit_price': 5.75, 'description': 'Used for treating bacterial infections.', 'stock': 50, 'category': 'Antibiotics', 'madein': 'India', 'name': 'asprin'}\n"
     ]
    }
   ],
   "source": [
    "\n",
    "\n",
    "data = {\n",
    "    \"name\": \"asprin\",\n",
    "    \"unit_price\": 5.75,\n",
    "    \"stock\": 50,\n",
    "    \"madein\": \"India\",\n",
    "    \"category\": \"Antibiotics\",\n",
    "    \"description\": \"Used for treating bacterial infections.\",\n",
    "    \"created_at\": firestore.SERVER_TIMESTAMP\n",
    "}\n",
    "\n",
    "name = data[\"name\"].lower().replace(' ', '_')\n",
    "docs = db.collection(\"medicines\").document()\n",
    "docs.set(data)\n",
    "\n",
    "print(docs.get().to_dict())"
   ]
  },
  {
   "cell_type": "markdown",
   "id": "923d0934",
   "metadata": {},
   "source": [
    "- update a medicine stock\n"
   ]
  },
  {
   "cell_type": "code",
   "execution_count": 51,
   "id": "126bcc83",
   "metadata": {},
   "outputs": [
    {
     "name": "stdout",
     "output_type": "stream",
     "text": [
      "Before: 400\n",
      "After: 500\n"
     ]
    }
   ],
   "source": [
    "name = \"penicillin\".lower().replace(\" \", \"_\")\n",
    "docs = db.collection(\"medicines\").document(name)\n",
    "\n",
    "data = docs.get().to_dict()\n",
    "print(f\"Before: {data['stock']}\")\n",
    "\n",
    "additional = 100\n",
    "data[\"stock\"] += additional\n",
    "\n",
    "print(f\"After: {data['stock']}\")\n"
   ]
  },
  {
   "cell_type": "code",
   "execution_count": 56,
   "id": "7e25fa37",
   "metadata": {},
   "outputs": [
    {
     "name": "stdout",
     "output_type": "stream",
     "text": [
      "Asprin is not in the database\n"
     ]
    }
   ],
   "source": [
    "# print('asprin' in db.collection('medicines').get())\n",
    "\n",
    "docs = db.collection(\"medicines\").document(\"kelo\").get().exists\n",
    "if docs:\n",
    "    print('Asprin is in the database')\n",
    "else:\n",
    "    print('Asprin is not in the database')"
   ]
  },
  {
   "cell_type": "code",
   "execution_count": 17,
   "id": "273727fc",
   "metadata": {},
   "outputs": [
    {
     "name": "stdout",
     "output_type": "stream",
     "text": [
      "asprin\n"
     ]
    }
   ],
   "source": [
    "medicine_name = \"Asprin\".lower().replace(\" \", \"_\")\n",
    "medicine_ref = db.collection(\"medicines\").document(medicine_name).get()\n",
    "\n",
    "print(medicine_ref.to_dict().get(\"name\"))\n"
   ]
  },
  {
   "cell_type": "code",
   "execution_count": 19,
   "id": "79b2c4c0",
   "metadata": {},
   "outputs": [],
   "source": [
    "import uuid"
   ]
  },
  {
   "cell_type": "code",
   "execution_count": 31,
   "id": "ae9bca98",
   "metadata": {},
   "outputs": [
    {
     "name": "stdout",
     "output_type": "stream",
     "text": [
      "19a876d85fd747a5bfeddcd10103bca8\n",
      "<class 'str'>\n",
      "32\n"
     ]
    }
   ],
   "source": [
    "order_id = uuid.uuid4().hex\n",
    "print(order_id)\n",
    "print(type(order_id))\n",
    "print(len(order_id))"
   ]
  },
  {
   "cell_type": "code",
   "execution_count": null,
   "id": "b50c888b",
   "metadata": {},
   "outputs": [
    {
     "data": {
      "text/plain": [
       "{'password': 'a665a45920422f9d417e4867efdc4fb8a04a1f3fff1fa07e998e86f7f7a27ae3',\n",
       " 'age': 30,\n",
       " 'created_at': DatetimeWithNanoseconds(2025, 7, 22, 18, 59, 41, 246000, tzinfo=datetime.timezone.utc),\n",
       " 'orders': {'0b527cd538844e7ab93c4f656f314cd7': 'Amoxicillin Tablet'},\n",
       " 'chats': [],\n",
       " 'email': 'test@gmail.com',\n",
       " 'name': 'Test User'}"
      ]
     },
     "execution_count": 37,
     "metadata": {},
     "output_type": "execute_result"
    }
   ],
   "source": [
    "user_email = \"test@gmail.com\"\n",
    "order_id = \"0b527cd538844e7ab93c4f656f314cd7\"\n",
    "user_ref = db.collection(\"users\").document(user_email)\n",
    "user_data = user_ref.get().to_dict()\n",
    "\n",
    "user_data[\"orders\"][order_id] = db.collection(\"orders\").document(order_id).get().to_dict()['medicinename']\n",
    "user_data"
   ]
  },
  {
   "cell_type": "code",
   "execution_count": null,
   "id": "9f639ee0",
   "metadata": {},
   "outputs": [
    {
     "name": "stdout",
     "output_type": "stream",
     "text": [
      "{'created_at': DatetimeWithNanoseconds(2025, 7, 22, 18, 59, 41, 695000, tzinfo=datetime.timezone.utc), 'user_email': 'test@gmail.com', 'unit_price': 5.75, 'order_status': 'Shipped', 'id': '0b527cd538844e7ab93c4f656f314cd7', 'medicinename': 'Amoxicillin Tablet', 'updated_at': DatetimeWithNanoseconds(2025, 7, 22, 18, 59, 42, 772000, tzinfo=datetime.timezone.utc), 'amount': 3, 'total_price': 17.25}\n"
     ]
    }
   ],
   "source": [
    "order_ref = db.collection(\"orders\").document(order_id)\n",
    "print(order_ref.get().to_dict())"
   ]
  },
  {
   "cell_type": "code",
   "execution_count": 39,
   "id": "ba20bd1a",
   "metadata": {},
   "outputs": [
    {
     "name": "stdout",
     "output_type": "stream",
     "text": [
      "{'created_at': DatetimeWithNanoseconds(2025, 7, 22, 18, 59, 41, 695000, tzinfo=datetime.timezone.utc), 'user_email': 'test@gmail.com', 'unit_price': 5.75, 'order_status': 'Shipped', 'id': '0b527cd538844e7ab93c4f656f314cd7', 'medicinename': 'Amoxicillin Tablet', 'updated_at': DatetimeWithNanoseconds(2025, 7, 22, 18, 59, 42, 772000, tzinfo=datetime.timezone.utc), 'amount': 3, 'total_price': 17.25}\n",
      "{'user_email': 'jane.doe@example.com', 'id': 'OwxypNvLEuFYj3HQyTOL', 'medicinename': 'Amoxicillin Tablet', 'updated_at': DatetimeWithNanoseconds(2025, 7, 23, 0, 41, 57, 285229, tzinfo=datetime.timezone.utc), 'status': 'pending', 'total_price': 17.25, 'amount': 3}\n"
     ]
    }
   ],
   "source": [
    "orders_ref = db.collection(\"orders\")\n",
    "# find all the orders \n",
    "orders = orders_ref.get()\n",
    "for order in orders:\n",
    "    print(order.to_dict())"
   ]
  }
 ],
 "metadata": {
  "kernelspec": {
   "display_name": "venv",
   "language": "python",
   "name": "python3"
  },
  "language_info": {
   "codemirror_mode": {
    "name": "ipython",
    "version": 3
   },
   "file_extension": ".py",
   "mimetype": "text/x-python",
   "name": "python",
   "nbconvert_exporter": "python",
   "pygments_lexer": "ipython3",
   "version": "3.13.1"
  }
 },
 "nbformat": 4,
 "nbformat_minor": 5
}
